{
 "cells": [
  {
   "cell_type": "code",
   "execution_count": 110,
   "metadata": {},
   "outputs": [],
   "source": [
    "import simplekml\n",
    "import os\n",
    "from bs4 import BeautifulSoup"
   ]
  },
  {
   "cell_type": "code",
   "execution_count": 111,
   "metadata": {},
   "outputs": [],
   "source": [
    "data_path = '../test_data/'"
   ]
  },
  {
   "cell_type": "code",
   "execution_count": 120,
   "metadata": {},
   "outputs": [],
   "source": [
    "def read_from_path(data_path):\n",
    "    # Read all files from data path\n",
    "    file_paths = []\n",
    "    file_names = []\n",
    "    for path, _, filenames in os.walk(data_path):\n",
    "        for name in filenames:\n",
    "            file_paths.append(os.path.join(path, name))\n",
    "            file_names.append(name)\n",
    "    return file_paths, file_names\n",
    "\n",
    "def data_template():\n",
    "    return {\n",
    "        'utc_datetime': None,\n",
    "        'latitude': None,\n",
    "        'longitude': None,\n",
    "        'altitude': None,\n",
    "        'bearing': None,\n",
    "        'speed': None,\n",
    "        'charging': None,\n",
    "        'battery_level': None,\n",
    "        'country': None,\n",
    "        'provider': None,\n",
    "        'foreground': None,\n",
    "        'state': None,\n",
    "        'scanning': None,\n",
    "        'connected': None,\n",
    "        'bssid': None,\n",
    "        'rssi': None,\n",
    "        'band': None,\n",
    "        'channel': None\n",
    "    }\n",
    "\n",
    "def convert_file_to_dict(file_path, utc_date):\n",
    "    f = open(file_path, 'r')\n",
    "    soup = BeautifulSoup(f, 'html.parser')\n",
    "    lines = soup.find_all('tr')\n",
    "    dict_lines = []\n",
    "    for line in lines[2:]:\n",
    "        line_data = line.find_all('td')\n",
    "        data_dict = data_template()\n",
    "        for tagged_data, data_key in zip(line_data, data_dict.keys()):\n",
    "            str_data = tagged_data.string\n",
    "            if data_key == 'utc_datetime': # include data and time\n",
    "                str_data = utc_date + ' ' + str_data\n",
    "            data_dict[data_key] = str_data\n",
    "            dict_lines.append(data_dict)\n",
    "    f.close()\n",
    "    return dict_lines\n",
    "    \n",
    "def save_day_kml(day, date):\n",
    "    kml = simplekml.Kml()\n",
    "    coords = []\n",
    "    location = None\n",
    "    timestamp = None\n",
    "    for line in day:\n",
    "        location = line['country']\n",
    "        latitude = line['latitude'].split(' ')[0]\n",
    "        longitude = line['longitude'].split(' ')[0]\n",
    "        altitude = line['altitude']\n",
    "        timestamp = simplekml.TimeStamp(when=line['utc_datetime'])\n",
    "        coords.append((longitude, latitude, altitude))\n",
    "    kml.newlinestring(name = location, coords=coords, timestamp=timestamp)\n",
    "    kml.save(f'./kml/{date}.kml')\n",
    "\n",
    "def save_all_kml(file_paths, file_names):\n",
    "    kml = simplekml.Kml()\n",
    "    for file_path, file_name in zip(file_paths, file_names):\n",
    "        date = file_name.split('.')[0]\n",
    "        day = convert_file_to_dict(file_path, date)\n",
    "        coords = []\n",
    "        location = None\n",
    "        timestamp = None\n",
    "        for line in day:\n",
    "            location = line['country']\n",
    "            latitude = line['latitude'].split(' ')[0]\n",
    "            longitude = line['longitude'].split(' ')[0]\n",
    "            altitude = line['altitude']\n",
    "            coords.append((longitude, latitude, altitude))\n",
    "            timestamp = simplekml.TimeStamp(when=line['utc_datetime'])\n",
    "        kml.newlinestring(name = location, coords=coords, timestamp=timestamp)\n",
    "    kml.save('./kml/all.kml')\n"
   ]
  },
  {
   "cell_type": "code",
   "execution_count": 121,
   "metadata": {},
   "outputs": [],
   "source": [
    "file_paths, file_names = read_from_path(data_path)\n",
    "# test save_day_kml\n",
    "date = file_names[0].split('.')[0]\n",
    "day0 = convert_file_to_dict(file_paths[0], date)\n",
    "save_day_kml(day0, date)\n",
    "# test save_all_kml\n",
    "save_all_kml(file_paths, file_names)"
   ]
  },
  {
   "cell_type": "code",
   "execution_count": null,
   "metadata": {},
   "outputs": [],
   "source": []
  }
 ],
 "metadata": {
  "kernelspec": {
   "display_name": "base",
   "language": "python",
   "name": "python3"
  },
  "language_info": {
   "codemirror_mode": {
    "name": "ipython",
    "version": 3
   },
   "file_extension": ".py",
   "mimetype": "text/x-python",
   "name": "python",
   "nbconvert_exporter": "python",
   "pygments_lexer": "ipython3",
   "version": "3.9.7"
  },
  "orig_nbformat": 4,
  "vscode": {
   "interpreter": {
    "hash": "7b91d4fa2883d5ae091960e6ad6b7716ba321f7a92c1d9dba3a7a7301f89586a"
   }
  }
 },
 "nbformat": 4,
 "nbformat_minor": 2
}
